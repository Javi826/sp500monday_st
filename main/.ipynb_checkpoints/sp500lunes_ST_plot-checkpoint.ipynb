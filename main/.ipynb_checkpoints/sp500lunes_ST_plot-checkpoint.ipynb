{
 "cells": [
  {
   "cell_type": "code",
   "execution_count": null,
   "id": "b9ca115e-77b3-40d5-b175-7963db38dfb2",
   "metadata": {},
   "outputs": [],
   "source": [
    "#Created on Sat Dec 23 14:39:08 2023\n",
    "\n",
    "import matplotlib.pyplot as plt\n",
    "from mpl_toolkits.mplot3d import Axes3D\n",
    "from matplotlib import tri\n",
    "import pandas as pd\n",
    "import os\n",
    "\n",
    "\n",
    "current_directory = os.getcwd()\n",
    "carpeta_principal = 'outputs'\n",
    "ruta_salir_main = os.path.dirname(current_directory)\n",
    "carpeta_briefs = os.path.join(ruta_salir_main,carpeta_principal, 'briefs')\n",
    "\n",
    "\n",
    "\n",
    "# Lee el DataFrame df_brief desde el archivo df_brief.xlsx\n",
    "ruta_df_brief = os.path.join(carpeta_briefs, 'df_brief.xlsx')\n",
    "df_brief = pd.read_excel(ruta_df_brief)\n",
    "\n",
    "\n",
    "# Extrae las columnas necesarias del DataFrame df_brief\n",
    "x_values = df_brief['bf_num_dias_retroceder']\n",
    "y_values = df_brief['bf_max_dias_ejecucion_venta']\n",
    "z_values = df_brief['bf_%renta']\n",
    "\n",
    "# Imprime el valor máximo de z_values\n",
    "max_z_value = z_values.max()\n",
    "print(f\"El valor máximo de z_values es: {max_z_value}\")\n",
    "\n",
    "# Crea una figura 3D\n",
    "fig = plt.figure()\n",
    "ax = fig.add_subplot(111, projection='3d')\n",
    "\n",
    "# Triangula los puntos para crear una superficie\n",
    "triang = tri.Triangulation(x_values, y_values)\n",
    "\n",
    "# Crea la superficie 3D\n",
    "surf = ax.plot_trisurf(triang, z_values, cmap='viridis', edgecolor='k', linewidth=0.2)\n",
    "\n",
    "# Etiquetas de los ejes\n",
    "ax.set_xlabel('n_compra')\n",
    "ax.set_ylabel('m_venta')\n",
    "ax.set_zlabel('%_Operación')\n",
    "\n",
    "# Añade una barra de color para la superficie\n",
    "fig.colorbar(surf, ax=ax, shrink=0.6, aspect=5)\n",
    "\n",
    "# Título de la gráfica\n",
    "plt.title('Gráfico 3D: f(x, y) = z')\n",
    "\n",
    "fig.set_size_inches(4, 4)  # Ancho: 10 pulgadas, Alto: 8 pulgadas\n",
    "plt.show()"
   ]
  }
 ],
 "metadata": {
  "kernelspec": {
   "display_name": "Python 3 (ipykernel)",
   "language": "python",
   "name": "python3"
  },
  "language_info": {
   "codemirror_mode": {
    "name": "ipython",
    "version": 3
   },
   "file_extension": ".py",
   "mimetype": "text/x-python",
   "name": "python",
   "nbconvert_exporter": "python",
   "pygments_lexer": "ipython3",
   "version": "3.11.5"
  }
 },
 "nbformat": 4,
 "nbformat_minor": 5
}
